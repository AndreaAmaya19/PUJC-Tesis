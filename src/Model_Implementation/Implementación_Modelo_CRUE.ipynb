{
  "nbformat": 4,
  "nbformat_minor": 0,
  "metadata": {
    "colab": {
      "provenance": []
    },
    "kernelspec": {
      "name": "python3",
      "display_name": "Python 3"
    },
    "language_info": {
      "name": "python"
    }
  },
  "cells": [
    {
      "cell_type": "markdown",
      "source": [
        "# IMPLEMENTACIÓN MODELO PREDICTIVO - CRUE"
      ],
      "metadata": {
        "id": "SQhRcFOZzjKD"
      }
    },
    {
      "cell_type": "markdown",
      "source": [
        "### **Guía para la Implementación del Modelo Predictivo Espaciotemporal**"
      ],
      "metadata": {
        "id": "6XdMZ1NozlLa"
      }
    },
    {
      "cell_type": "markdown",
      "source": [
        "## **Introducción**\n",
        "\n",
        "Este notebook está diseñado como una guía práctica para implementar el modelo predictivo de demanda de servicios de emergencias médicas. Está orientado a usuarios del CRUE y no requiere conocimientos avanzados en programación o ciencia de datos.\n"
      ],
      "metadata": {
        "id": "-4kMcRZmzprK"
      }
    },
    {
      "cell_type": "markdown",
      "source": [
        "## **1. Preparación del Entorno**\n",
        "\n",
        "Antes de comenzar, asegúrese de tener los siguientes elementos:\n",
        "\n",
        "1. Acceso a este notebook desde Google Colab.\n",
        "2. El archivo CSV que contenga los datos necesarios, como incidentes históricos, variables climáticas, y demográficas.\n",
        "3. Cuenta de Google conectada para guardar y cargar datos."
      ],
      "metadata": {
        "id": "hRfMDDRuz2On"
      }
    },
    {
      "cell_type": "markdown",
      "source": [
        "## **2. Librerías Necesarias**\n",
        "\n",
        "Primero, se cargan las librerías que nos ayudarán a ejecutar el modelo.\n"
      ],
      "metadata": {
        "id": "i6BVClUH0PYW"
      }
    },
    {
      "cell_type": "code",
      "execution_count": null,
      "metadata": {
        "id": "dcUfqyD_zQx1"
      },
      "outputs": [],
      "source": [
        "import pandas as pd\n",
        "import numpy as np\n",
        "import matplotlib.pyplot as plt\n",
        "import seaborn as sns\n",
        "import xgboost as xgb\n",
        "import joblib\n",
        "from sklearn.model_selection import train_test_split, cross_val_score\n",
        "from sklearn.metrics import mean_absolute_error, mean_squared_error, r2_score\n",
        "from sklearn.preprocessing import StandardScaler\n",
        "from google.colab import drive, files"
      ]
    },
    {
      "cell_type": "markdown",
      "source": [
        "## **3. Cargar los Datos**\n",
        "\n",
        "Cargaremos los datos históricos que utilizaremos para realizar las predicciones. Asegúrese de que el archivo esté correctamente cargado en su entorno de Colab."
      ],
      "metadata": {
        "id": "PmyU1HJM0tfu"
      }
    },
    {
      "cell_type": "code",
      "source": [
        "# Definir ruta del archivo\n",
        "drive.mount('/content/drive')\n",
        "# Subir el archivo CSV\n",
        "Datos = pd.read_csv(f\"/content/drive/MyDrive/Proyecto de grado/Datos_sds/datos_pred_julio.csv\", delimiter=',', encoding='UTF-8')"
      ],
      "metadata": {
        "colab": {
          "base_uri": "https://localhost:8080/"
        },
        "id": "roPglvT8zZ2j",
        "outputId": "6cd00995-53a3-401e-f0ae-107547febe40"
      },
      "execution_count": null,
      "outputs": [
        {
          "output_type": "stream",
          "name": "stdout",
          "text": [
            "Drive already mounted at /content/drive; to attempt to forcibly remount, call drive.mount(\"/content/drive\", force_remount=True).\n"
          ]
        }
      ]
    },
    {
      "cell_type": "code",
      "source": [
        "# Visualizar las primeras filas\n",
        "Datos.head()"
      ],
      "metadata": {
        "colab": {
          "base_uri": "https://localhost:8080/",
          "height": 342
        },
        "id": "idh-5IVt1Mkx",
        "outputId": "2a0fc46c-3e33-4c56-ca55-4f89e01155ca"
      },
      "execution_count": null,
      "outputs": [
        {
          "output_type": "execute_result",
          "data": {
            "text/plain": [
              "    cod_incidente hora_fecha_inicial  Anio  Mes  Dia_mes  Infantes_0_4  \\\n",
              "0  CRU-0100000-24      7/1/2024 7:30  2024    7        1           513   \n",
              "1  CRU-0100001-24      7/2/2024 9:30  2024    7        2         18477   \n",
              "2  CRU-0100002-24     7/3/2024 20:10  2024    7        3         17268   \n",
              "3  CRU-0100003-24     7/4/2024 22:10  2024    7        4         13624   \n",
              "4  CRU-0100004-24     7/5/2024 13:55  2024    7        5          9737   \n",
              "\n",
              "   Niños_5_14  Adolecentes_15_19  Adultos_20_59  Adultos_mayores_60  ...  \\\n",
              "0        1754                883           6402                1275  ...   \n",
              "1       38642              18896         187187               45890  ...   \n",
              "2       37452              19207         180612               44529  ...   \n",
              "3       28096              15523         148662               36908  ...   \n",
              "4       13528               7466          95666               29871  ...   \n",
              "\n",
              "   Inc_Paro  Aforo_total  ValorPrecip  Densidad_poblacional  \\\n",
              "0         0            0          0.0              6.163392   \n",
              "1         0          500          0.0            243.957081   \n",
              "2         0          500          0.0            421.169848   \n",
              "3         0          300          0.0            116.168764   \n",
              "4         0            0          0.0            131.279514   \n",
              "\n",
              "   prioridad.inicial_ALTA  prioridad.inicial_BAJA  prioridad.inicial_CRITICA  \\\n",
              "0                       1                       0                          0   \n",
              "1                       1                       0                          0   \n",
              "2                       1                       0                          0   \n",
              "3                       0                       0                          1   \n",
              "4                       0                       0                          1   \n",
              "\n",
              "   prioridad.inicial_MEDIA           Fecha  Festivo  \n",
              "0                        0   7/1/2024 7:30        1  \n",
              "1                        0   7/2/2024 9:30        0  \n",
              "2                        0  7/3/2024 20:10        0  \n",
              "3                        0  7/4/2024 22:10        0  \n",
              "4                        0  7/5/2024 13:55        0  \n",
              "\n",
              "[5 rows x 39 columns]"
            ],
            "text/html": [
              "\n",
              "  <div id=\"df-4907f458-0b99-454a-a6eb-45f5e866e20e\" class=\"colab-df-container\">\n",
              "    <div>\n",
              "<style scoped>\n",
              "    .dataframe tbody tr th:only-of-type {\n",
              "        vertical-align: middle;\n",
              "    }\n",
              "\n",
              "    .dataframe tbody tr th {\n",
              "        vertical-align: top;\n",
              "    }\n",
              "\n",
              "    .dataframe thead th {\n",
              "        text-align: right;\n",
              "    }\n",
              "</style>\n",
              "<table border=\"1\" class=\"dataframe\">\n",
              "  <thead>\n",
              "    <tr style=\"text-align: right;\">\n",
              "      <th></th>\n",
              "      <th>cod_incidente</th>\n",
              "      <th>hora_fecha_inicial</th>\n",
              "      <th>Anio</th>\n",
              "      <th>Mes</th>\n",
              "      <th>Dia_mes</th>\n",
              "      <th>Infantes_0_4</th>\n",
              "      <th>Niños_5_14</th>\n",
              "      <th>Adolecentes_15_19</th>\n",
              "      <th>Adultos_20_59</th>\n",
              "      <th>Adultos_mayores_60</th>\n",
              "      <th>...</th>\n",
              "      <th>Inc_Paro</th>\n",
              "      <th>Aforo_total</th>\n",
              "      <th>ValorPrecip</th>\n",
              "      <th>Densidad_poblacional</th>\n",
              "      <th>prioridad.inicial_ALTA</th>\n",
              "      <th>prioridad.inicial_BAJA</th>\n",
              "      <th>prioridad.inicial_CRITICA</th>\n",
              "      <th>prioridad.inicial_MEDIA</th>\n",
              "      <th>Fecha</th>\n",
              "      <th>Festivo</th>\n",
              "    </tr>\n",
              "  </thead>\n",
              "  <tbody>\n",
              "    <tr>\n",
              "      <th>0</th>\n",
              "      <td>CRU-0100000-24</td>\n",
              "      <td>7/1/2024 7:30</td>\n",
              "      <td>2024</td>\n",
              "      <td>7</td>\n",
              "      <td>1</td>\n",
              "      <td>513</td>\n",
              "      <td>1754</td>\n",
              "      <td>883</td>\n",
              "      <td>6402</td>\n",
              "      <td>1275</td>\n",
              "      <td>...</td>\n",
              "      <td>0</td>\n",
              "      <td>0</td>\n",
              "      <td>0.0</td>\n",
              "      <td>6.163392</td>\n",
              "      <td>1</td>\n",
              "      <td>0</td>\n",
              "      <td>0</td>\n",
              "      <td>0</td>\n",
              "      <td>7/1/2024 7:30</td>\n",
              "      <td>1</td>\n",
              "    </tr>\n",
              "    <tr>\n",
              "      <th>1</th>\n",
              "      <td>CRU-0100001-24</td>\n",
              "      <td>7/2/2024 9:30</td>\n",
              "      <td>2024</td>\n",
              "      <td>7</td>\n",
              "      <td>2</td>\n",
              "      <td>18477</td>\n",
              "      <td>38642</td>\n",
              "      <td>18896</td>\n",
              "      <td>187187</td>\n",
              "      <td>45890</td>\n",
              "      <td>...</td>\n",
              "      <td>0</td>\n",
              "      <td>500</td>\n",
              "      <td>0.0</td>\n",
              "      <td>243.957081</td>\n",
              "      <td>1</td>\n",
              "      <td>0</td>\n",
              "      <td>0</td>\n",
              "      <td>0</td>\n",
              "      <td>7/2/2024 9:30</td>\n",
              "      <td>0</td>\n",
              "    </tr>\n",
              "    <tr>\n",
              "      <th>2</th>\n",
              "      <td>CRU-0100002-24</td>\n",
              "      <td>7/3/2024 20:10</td>\n",
              "      <td>2024</td>\n",
              "      <td>7</td>\n",
              "      <td>3</td>\n",
              "      <td>17268</td>\n",
              "      <td>37452</td>\n",
              "      <td>19207</td>\n",
              "      <td>180612</td>\n",
              "      <td>44529</td>\n",
              "      <td>...</td>\n",
              "      <td>0</td>\n",
              "      <td>500</td>\n",
              "      <td>0.0</td>\n",
              "      <td>421.169848</td>\n",
              "      <td>1</td>\n",
              "      <td>0</td>\n",
              "      <td>0</td>\n",
              "      <td>0</td>\n",
              "      <td>7/3/2024 20:10</td>\n",
              "      <td>0</td>\n",
              "    </tr>\n",
              "    <tr>\n",
              "      <th>3</th>\n",
              "      <td>CRU-0100003-24</td>\n",
              "      <td>7/4/2024 22:10</td>\n",
              "      <td>2024</td>\n",
              "      <td>7</td>\n",
              "      <td>4</td>\n",
              "      <td>13624</td>\n",
              "      <td>28096</td>\n",
              "      <td>15523</td>\n",
              "      <td>148662</td>\n",
              "      <td>36908</td>\n",
              "      <td>...</td>\n",
              "      <td>0</td>\n",
              "      <td>300</td>\n",
              "      <td>0.0</td>\n",
              "      <td>116.168764</td>\n",
              "      <td>0</td>\n",
              "      <td>0</td>\n",
              "      <td>1</td>\n",
              "      <td>0</td>\n",
              "      <td>7/4/2024 22:10</td>\n",
              "      <td>0</td>\n",
              "    </tr>\n",
              "    <tr>\n",
              "      <th>4</th>\n",
              "      <td>CRU-0100004-24</td>\n",
              "      <td>7/5/2024 13:55</td>\n",
              "      <td>2024</td>\n",
              "      <td>7</td>\n",
              "      <td>5</td>\n",
              "      <td>9737</td>\n",
              "      <td>13528</td>\n",
              "      <td>7466</td>\n",
              "      <td>95666</td>\n",
              "      <td>29871</td>\n",
              "      <td>...</td>\n",
              "      <td>0</td>\n",
              "      <td>0</td>\n",
              "      <td>0.0</td>\n",
              "      <td>131.279514</td>\n",
              "      <td>0</td>\n",
              "      <td>0</td>\n",
              "      <td>1</td>\n",
              "      <td>0</td>\n",
              "      <td>7/5/2024 13:55</td>\n",
              "      <td>0</td>\n",
              "    </tr>\n",
              "  </tbody>\n",
              "</table>\n",
              "<p>5 rows × 39 columns</p>\n",
              "</div>\n",
              "    <div class=\"colab-df-buttons\">\n",
              "\n",
              "  <div class=\"colab-df-container\">\n",
              "    <button class=\"colab-df-convert\" onclick=\"convertToInteractive('df-4907f458-0b99-454a-a6eb-45f5e866e20e')\"\n",
              "            title=\"Convert this dataframe to an interactive table.\"\n",
              "            style=\"display:none;\">\n",
              "\n",
              "  <svg xmlns=\"http://www.w3.org/2000/svg\" height=\"24px\" viewBox=\"0 -960 960 960\">\n",
              "    <path d=\"M120-120v-720h720v720H120Zm60-500h600v-160H180v160Zm220 220h160v-160H400v160Zm0 220h160v-160H400v160ZM180-400h160v-160H180v160Zm440 0h160v-160H620v160ZM180-180h160v-160H180v160Zm440 0h160v-160H620v160Z\"/>\n",
              "  </svg>\n",
              "    </button>\n",
              "\n",
              "  <style>\n",
              "    .colab-df-container {\n",
              "      display:flex;\n",
              "      gap: 12px;\n",
              "    }\n",
              "\n",
              "    .colab-df-convert {\n",
              "      background-color: #E8F0FE;\n",
              "      border: none;\n",
              "      border-radius: 50%;\n",
              "      cursor: pointer;\n",
              "      display: none;\n",
              "      fill: #1967D2;\n",
              "      height: 32px;\n",
              "      padding: 0 0 0 0;\n",
              "      width: 32px;\n",
              "    }\n",
              "\n",
              "    .colab-df-convert:hover {\n",
              "      background-color: #E2EBFA;\n",
              "      box-shadow: 0px 1px 2px rgba(60, 64, 67, 0.3), 0px 1px 3px 1px rgba(60, 64, 67, 0.15);\n",
              "      fill: #174EA6;\n",
              "    }\n",
              "\n",
              "    .colab-df-buttons div {\n",
              "      margin-bottom: 4px;\n",
              "    }\n",
              "\n",
              "    [theme=dark] .colab-df-convert {\n",
              "      background-color: #3B4455;\n",
              "      fill: #D2E3FC;\n",
              "    }\n",
              "\n",
              "    [theme=dark] .colab-df-convert:hover {\n",
              "      background-color: #434B5C;\n",
              "      box-shadow: 0px 1px 3px 1px rgba(0, 0, 0, 0.15);\n",
              "      filter: drop-shadow(0px 1px 2px rgba(0, 0, 0, 0.3));\n",
              "      fill: #FFFFFF;\n",
              "    }\n",
              "  </style>\n",
              "\n",
              "    <script>\n",
              "      const buttonEl =\n",
              "        document.querySelector('#df-4907f458-0b99-454a-a6eb-45f5e866e20e button.colab-df-convert');\n",
              "      buttonEl.style.display =\n",
              "        google.colab.kernel.accessAllowed ? 'block' : 'none';\n",
              "\n",
              "      async function convertToInteractive(key) {\n",
              "        const element = document.querySelector('#df-4907f458-0b99-454a-a6eb-45f5e866e20e');\n",
              "        const dataTable =\n",
              "          await google.colab.kernel.invokeFunction('convertToInteractive',\n",
              "                                                    [key], {});\n",
              "        if (!dataTable) return;\n",
              "\n",
              "        const docLinkHtml = 'Like what you see? Visit the ' +\n",
              "          '<a target=\"_blank\" href=https://colab.research.google.com/notebooks/data_table.ipynb>data table notebook</a>'\n",
              "          + ' to learn more about interactive tables.';\n",
              "        element.innerHTML = '';\n",
              "        dataTable['output_type'] = 'display_data';\n",
              "        await google.colab.output.renderOutput(dataTable, element);\n",
              "        const docLink = document.createElement('div');\n",
              "        docLink.innerHTML = docLinkHtml;\n",
              "        element.appendChild(docLink);\n",
              "      }\n",
              "    </script>\n",
              "  </div>\n",
              "\n",
              "\n",
              "<div id=\"df-6e544bb4-ae91-44bd-b67f-5d82978c85f5\">\n",
              "  <button class=\"colab-df-quickchart\" onclick=\"quickchart('df-6e544bb4-ae91-44bd-b67f-5d82978c85f5')\"\n",
              "            title=\"Suggest charts\"\n",
              "            style=\"display:none;\">\n",
              "\n",
              "<svg xmlns=\"http://www.w3.org/2000/svg\" height=\"24px\"viewBox=\"0 0 24 24\"\n",
              "     width=\"24px\">\n",
              "    <g>\n",
              "        <path d=\"M19 3H5c-1.1 0-2 .9-2 2v14c0 1.1.9 2 2 2h14c1.1 0 2-.9 2-2V5c0-1.1-.9-2-2-2zM9 17H7v-7h2v7zm4 0h-2V7h2v10zm4 0h-2v-4h2v4z\"/>\n",
              "    </g>\n",
              "</svg>\n",
              "  </button>\n",
              "\n",
              "<style>\n",
              "  .colab-df-quickchart {\n",
              "      --bg-color: #E8F0FE;\n",
              "      --fill-color: #1967D2;\n",
              "      --hover-bg-color: #E2EBFA;\n",
              "      --hover-fill-color: #174EA6;\n",
              "      --disabled-fill-color: #AAA;\n",
              "      --disabled-bg-color: #DDD;\n",
              "  }\n",
              "\n",
              "  [theme=dark] .colab-df-quickchart {\n",
              "      --bg-color: #3B4455;\n",
              "      --fill-color: #D2E3FC;\n",
              "      --hover-bg-color: #434B5C;\n",
              "      --hover-fill-color: #FFFFFF;\n",
              "      --disabled-bg-color: #3B4455;\n",
              "      --disabled-fill-color: #666;\n",
              "  }\n",
              "\n",
              "  .colab-df-quickchart {\n",
              "    background-color: var(--bg-color);\n",
              "    border: none;\n",
              "    border-radius: 50%;\n",
              "    cursor: pointer;\n",
              "    display: none;\n",
              "    fill: var(--fill-color);\n",
              "    height: 32px;\n",
              "    padding: 0;\n",
              "    width: 32px;\n",
              "  }\n",
              "\n",
              "  .colab-df-quickchart:hover {\n",
              "    background-color: var(--hover-bg-color);\n",
              "    box-shadow: 0 1px 2px rgba(60, 64, 67, 0.3), 0 1px 3px 1px rgba(60, 64, 67, 0.15);\n",
              "    fill: var(--button-hover-fill-color);\n",
              "  }\n",
              "\n",
              "  .colab-df-quickchart-complete:disabled,\n",
              "  .colab-df-quickchart-complete:disabled:hover {\n",
              "    background-color: var(--disabled-bg-color);\n",
              "    fill: var(--disabled-fill-color);\n",
              "    box-shadow: none;\n",
              "  }\n",
              "\n",
              "  .colab-df-spinner {\n",
              "    border: 2px solid var(--fill-color);\n",
              "    border-color: transparent;\n",
              "    border-bottom-color: var(--fill-color);\n",
              "    animation:\n",
              "      spin 1s steps(1) infinite;\n",
              "  }\n",
              "\n",
              "  @keyframes spin {\n",
              "    0% {\n",
              "      border-color: transparent;\n",
              "      border-bottom-color: var(--fill-color);\n",
              "      border-left-color: var(--fill-color);\n",
              "    }\n",
              "    20% {\n",
              "      border-color: transparent;\n",
              "      border-left-color: var(--fill-color);\n",
              "      border-top-color: var(--fill-color);\n",
              "    }\n",
              "    30% {\n",
              "      border-color: transparent;\n",
              "      border-left-color: var(--fill-color);\n",
              "      border-top-color: var(--fill-color);\n",
              "      border-right-color: var(--fill-color);\n",
              "    }\n",
              "    40% {\n",
              "      border-color: transparent;\n",
              "      border-right-color: var(--fill-color);\n",
              "      border-top-color: var(--fill-color);\n",
              "    }\n",
              "    60% {\n",
              "      border-color: transparent;\n",
              "      border-right-color: var(--fill-color);\n",
              "    }\n",
              "    80% {\n",
              "      border-color: transparent;\n",
              "      border-right-color: var(--fill-color);\n",
              "      border-bottom-color: var(--fill-color);\n",
              "    }\n",
              "    90% {\n",
              "      border-color: transparent;\n",
              "      border-bottom-color: var(--fill-color);\n",
              "    }\n",
              "  }\n",
              "</style>\n",
              "\n",
              "  <script>\n",
              "    async function quickchart(key) {\n",
              "      const quickchartButtonEl =\n",
              "        document.querySelector('#' + key + ' button');\n",
              "      quickchartButtonEl.disabled = true;  // To prevent multiple clicks.\n",
              "      quickchartButtonEl.classList.add('colab-df-spinner');\n",
              "      try {\n",
              "        const charts = await google.colab.kernel.invokeFunction(\n",
              "            'suggestCharts', [key], {});\n",
              "      } catch (error) {\n",
              "        console.error('Error during call to suggestCharts:', error);\n",
              "      }\n",
              "      quickchartButtonEl.classList.remove('colab-df-spinner');\n",
              "      quickchartButtonEl.classList.add('colab-df-quickchart-complete');\n",
              "    }\n",
              "    (() => {\n",
              "      let quickchartButtonEl =\n",
              "        document.querySelector('#df-6e544bb4-ae91-44bd-b67f-5d82978c85f5 button');\n",
              "      quickchartButtonEl.style.display =\n",
              "        google.colab.kernel.accessAllowed ? 'block' : 'none';\n",
              "    })();\n",
              "  </script>\n",
              "</div>\n",
              "\n",
              "    </div>\n",
              "  </div>\n"
            ],
            "application/vnd.google.colaboratory.intrinsic+json": {
              "type": "dataframe",
              "variable_name": "Datos"
            }
          },
          "metadata": {},
          "execution_count": 3
        }
      ]
    },
    {
      "cell_type": "markdown",
      "source": [
        "## **4. Preparación de los Datos**\n",
        "\n",
        "El modelo necesita que los datos estén organizados y limpios. Este paso se encarga de preparar las columnas necesarias."
      ],
      "metadata": {
        "id": "2y7Ie3BL2dac"
      }
    },
    {
      "cell_type": "markdown",
      "source": [
        "Incialmente se agrupan los datos por las variables fecha del incidente, código de UPL y rango de hora del incidente."
      ],
      "metadata": {
        "id": "v3CTpcKDiaaV"
      }
    },
    {
      "cell_type": "code",
      "source": [
        "df_agrupado = Datos.groupby(['Fecha', 'Cod_UPL', 'Rango_Hora']).agg(\n",
        "    Total_Incidentes=('cod_incidente', lambda x: x.nunique()),\n",
        "    Anio = ('Anio', 'max'),\n",
        "    Mes = ('Mes', 'max'),\n",
        "    Dia_mes = ('Dia_mes', 'max'),\n",
        "    Dia_del_anio = ('dia_del_anio', 'max'),\n",
        "    Dia_semana = ('dia_semana', 'max'),\n",
        "    Festivo = ('Festivo', 'max'),\n",
        "    Cantidad_Eventos = ('Cantidad Eventos', 'max'),\n",
        "    Aforo_Total_Eventos = ('Aforo_total', 'max'),\n",
        "    Precipitacion_mm = ('ValorPrecip', 'max'),\n",
        "    Infantes_0_4 = ('Infantes_0_4', 'max'),\n",
        "    Niños_5_14 = ('Niños_5_14', 'max'),\n",
        "    Adolecentes_15_19 = ('Adolecentes_15_19', 'max'),\n",
        "    Adultos_20_59 = ('Adultos_20_59', 'max'),\n",
        "    Adultos_mayores_60 = ('Adultos_mayores_60', 'max'),\n",
        "    Total_Mujeres = ('Total_Mujeres', 'max'),\n",
        "    Total_Hombres = ('Total_Hombres', 'max'),\n",
        "    Total_Pob = ('Total_pob_UPL', 'max'),\n",
        "    Densidad_poblacional = ('Densidad_poblacional', 'max'),\n",
        "\n",
        "    Broma=('Broma', 'sum'),\n",
        "    Falsa_alarma =('Falsa_alarma', 'sum'),\n",
        "    Atendido=('Atendido', 'sum'),\n",
        "    Inc_Herido=('Inc_Herido', 'sum'),\n",
        "    Inc_TrstM=('Inc_TrstM', 'sum'),\n",
        "    Inc_Enfermo=('Inc_Enfermo', 'sum'),\n",
        "    Inc_Convulsion=('Inc_Convulsion', 'sum'),\n",
        "    Inc_Dif_Resp=('Inc_Dif_Resp', 'sum'),\n",
        "    Inc_Paro = ('Inc_Paro', 'sum'),\n",
        "\n",
        "    PI_Critica = ('prioridad.inicial_CRITICA', 'sum'),\n",
        "    PI_Alta = ('prioridad.inicial_ALTA', 'sum'),\n",
        "    PI_Media = ('prioridad.inicial_MEDIA', 'sum'),\n",
        "    PI_Baja = ('prioridad.inicial_BAJA', 'sum')\n",
        "\n",
        ").reset_index()"
      ],
      "metadata": {
        "id": "wpaHk6Sj6gBa"
      },
      "execution_count": null,
      "outputs": []
    },
    {
      "cell_type": "markdown",
      "source": [
        "Se ordena el conjunto de datos por las variables de agrupación y se calculan los incidentes del día anterior."
      ],
      "metadata": {
        "id": "OcXRt1kHis2C"
      }
    },
    {
      "cell_type": "code",
      "source": [
        "df_agrupado['Fecha'] = pd.to_datetime(df_agrupado['Fecha'])\n",
        "df = df_agrupado.sort_values(by=['Fecha', 'Cod_UPL', 'Rango_Hora'])\n",
        "df['Inc_dia_anterior'] = df.groupby(['Cod_UPL', 'Rango_Hora'])['Total_Incidentes'].shift(1)\n",
        "df = df.dropna(subset=['Inc_dia_anterior'])"
      ],
      "metadata": {
        "id": "CkbkpBhq6f-q"
      },
      "execution_count": null,
      "outputs": []
    },
    {
      "cell_type": "markdown",
      "source": [
        "Se convierte el rango de horas en una variable binaria."
      ],
      "metadata": {
        "id": "lDRWfpMJjaop"
      }
    },
    {
      "cell_type": "code",
      "source": [
        "df['Rango_Hora'] = np.where(df['Rango_Hora'] == '9am-9pm', 1, 0)"
      ],
      "metadata": {
        "id": "IfMuxEDy1Mg5"
      },
      "execution_count": null,
      "outputs": []
    },
    {
      "cell_type": "markdown",
      "source": [
        "## **5. Cargar el Modelo Preentrenado**\n",
        "\n",
        "El modelo ya ha sido entrenado previamente. Aquí cargaremos ese modelo para usarlo directamente."
      ],
      "metadata": {
        "id": "saW5jnnF4vxX"
      }
    },
    {
      "cell_type": "code",
      "source": [
        "modelo_xgb = joblib.load('/content/drive/MyDrive/Proyecto de grado/Datos_sds/modelo_xgb.pkl')\n",
        "print(\"Modelo cargado exitosamente\")"
      ],
      "metadata": {
        "colab": {
          "base_uri": "https://localhost:8080/"
        },
        "id": "Oaq-BTAk1MXO",
        "outputId": "f7ec81e8-c4d2-43a2-8d85-962508986877"
      },
      "execution_count": null,
      "outputs": [
        {
          "output_type": "stream",
          "name": "stdout",
          "text": [
            "Modelo cargado exitosamente\n"
          ]
        }
      ]
    },
    {
      "cell_type": "markdown",
      "source": [
        "## **6. Realizar Predicciones**\n",
        "\n",
        "Utilizaremos el modelo cargado para predecir la demanda en los próximos días."
      ],
      "metadata": {
        "id": "Vdm0KK3f6FSA"
      }
    },
    {
      "cell_type": "code",
      "source": [
        "# Seleccionar las columnas necesarias para las predicciones\n",
        "X = df[['Cod_UPL', 'Dia_semana', 'Dia_del_anio', 'Rango_Hora', 'Densidad_poblacional', 'Adultos_mayores_60', 'Infantes_0_4', 'Festivo', 'Cantidad_Eventos', 'Inc_Herido', 'Inc_dia_anterior', 'PI_Critica']]"
      ],
      "metadata": {
        "id": "qL2ong914-EZ"
      },
      "execution_count": null,
      "outputs": []
    },
    {
      "cell_type": "code",
      "source": [
        "# Realizar predicciones\n",
        "df['prediccion'] = modelo_xgb.predict(X)"
      ],
      "metadata": {
        "id": "f-8fHBMD6VWm"
      },
      "execution_count": null,
      "outputs": []
    },
    {
      "cell_type": "code",
      "source": [
        "# Visualizar resultados\n",
        "df[['Fecha', 'Rango_Hora', 'prediccion']].head(5)"
      ],
      "metadata": {
        "colab": {
          "base_uri": "https://localhost:8080/",
          "height": 206
        },
        "id": "-S-K6XP5Dg8G",
        "outputId": "2a1b579e-b793-4dae-ad9e-6b8a9272fb6f"
      },
      "execution_count": 60,
      "outputs": [
        {
          "output_type": "execute_result",
          "data": {
            "text/plain": [
              "                 Fecha  Rango_Hora  prediccion\n",
              "15 2024-07-02 11:56:00           1    3.946150\n",
              "36 2024-07-03 06:50:00           0    2.477051\n",
              "37 2024-07-03 06:50:00           0    3.994012\n",
              "38 2024-07-03 06:50:00           0    3.842230\n",
              "28 2024-07-03 20:10:00           1    4.572076"
            ],
            "text/html": [
              "\n",
              "  <div id=\"df-bd09806f-a4c8-4491-b180-3156acdf8d9e\" class=\"colab-df-container\">\n",
              "    <div>\n",
              "<style scoped>\n",
              "    .dataframe tbody tr th:only-of-type {\n",
              "        vertical-align: middle;\n",
              "    }\n",
              "\n",
              "    .dataframe tbody tr th {\n",
              "        vertical-align: top;\n",
              "    }\n",
              "\n",
              "    .dataframe thead th {\n",
              "        text-align: right;\n",
              "    }\n",
              "</style>\n",
              "<table border=\"1\" class=\"dataframe\">\n",
              "  <thead>\n",
              "    <tr style=\"text-align: right;\">\n",
              "      <th></th>\n",
              "      <th>Fecha</th>\n",
              "      <th>Rango_Hora</th>\n",
              "      <th>prediccion</th>\n",
              "    </tr>\n",
              "  </thead>\n",
              "  <tbody>\n",
              "    <tr>\n",
              "      <th>15</th>\n",
              "      <td>2024-07-02 11:56:00</td>\n",
              "      <td>1</td>\n",
              "      <td>3.946150</td>\n",
              "    </tr>\n",
              "    <tr>\n",
              "      <th>36</th>\n",
              "      <td>2024-07-03 06:50:00</td>\n",
              "      <td>0</td>\n",
              "      <td>2.477051</td>\n",
              "    </tr>\n",
              "    <tr>\n",
              "      <th>37</th>\n",
              "      <td>2024-07-03 06:50:00</td>\n",
              "      <td>0</td>\n",
              "      <td>3.994012</td>\n",
              "    </tr>\n",
              "    <tr>\n",
              "      <th>38</th>\n",
              "      <td>2024-07-03 06:50:00</td>\n",
              "      <td>0</td>\n",
              "      <td>3.842230</td>\n",
              "    </tr>\n",
              "    <tr>\n",
              "      <th>28</th>\n",
              "      <td>2024-07-03 20:10:00</td>\n",
              "      <td>1</td>\n",
              "      <td>4.572076</td>\n",
              "    </tr>\n",
              "  </tbody>\n",
              "</table>\n",
              "</div>\n",
              "    <div class=\"colab-df-buttons\">\n",
              "\n",
              "  <div class=\"colab-df-container\">\n",
              "    <button class=\"colab-df-convert\" onclick=\"convertToInteractive('df-bd09806f-a4c8-4491-b180-3156acdf8d9e')\"\n",
              "            title=\"Convert this dataframe to an interactive table.\"\n",
              "            style=\"display:none;\">\n",
              "\n",
              "  <svg xmlns=\"http://www.w3.org/2000/svg\" height=\"24px\" viewBox=\"0 -960 960 960\">\n",
              "    <path d=\"M120-120v-720h720v720H120Zm60-500h600v-160H180v160Zm220 220h160v-160H400v160Zm0 220h160v-160H400v160ZM180-400h160v-160H180v160Zm440 0h160v-160H620v160ZM180-180h160v-160H180v160Zm440 0h160v-160H620v160Z\"/>\n",
              "  </svg>\n",
              "    </button>\n",
              "\n",
              "  <style>\n",
              "    .colab-df-container {\n",
              "      display:flex;\n",
              "      gap: 12px;\n",
              "    }\n",
              "\n",
              "    .colab-df-convert {\n",
              "      background-color: #E8F0FE;\n",
              "      border: none;\n",
              "      border-radius: 50%;\n",
              "      cursor: pointer;\n",
              "      display: none;\n",
              "      fill: #1967D2;\n",
              "      height: 32px;\n",
              "      padding: 0 0 0 0;\n",
              "      width: 32px;\n",
              "    }\n",
              "\n",
              "    .colab-df-convert:hover {\n",
              "      background-color: #E2EBFA;\n",
              "      box-shadow: 0px 1px 2px rgba(60, 64, 67, 0.3), 0px 1px 3px 1px rgba(60, 64, 67, 0.15);\n",
              "      fill: #174EA6;\n",
              "    }\n",
              "\n",
              "    .colab-df-buttons div {\n",
              "      margin-bottom: 4px;\n",
              "    }\n",
              "\n",
              "    [theme=dark] .colab-df-convert {\n",
              "      background-color: #3B4455;\n",
              "      fill: #D2E3FC;\n",
              "    }\n",
              "\n",
              "    [theme=dark] .colab-df-convert:hover {\n",
              "      background-color: #434B5C;\n",
              "      box-shadow: 0px 1px 3px 1px rgba(0, 0, 0, 0.15);\n",
              "      filter: drop-shadow(0px 1px 2px rgba(0, 0, 0, 0.3));\n",
              "      fill: #FFFFFF;\n",
              "    }\n",
              "  </style>\n",
              "\n",
              "    <script>\n",
              "      const buttonEl =\n",
              "        document.querySelector('#df-bd09806f-a4c8-4491-b180-3156acdf8d9e button.colab-df-convert');\n",
              "      buttonEl.style.display =\n",
              "        google.colab.kernel.accessAllowed ? 'block' : 'none';\n",
              "\n",
              "      async function convertToInteractive(key) {\n",
              "        const element = document.querySelector('#df-bd09806f-a4c8-4491-b180-3156acdf8d9e');\n",
              "        const dataTable =\n",
              "          await google.colab.kernel.invokeFunction('convertToInteractive',\n",
              "                                                    [key], {});\n",
              "        if (!dataTable) return;\n",
              "\n",
              "        const docLinkHtml = 'Like what you see? Visit the ' +\n",
              "          '<a target=\"_blank\" href=https://colab.research.google.com/notebooks/data_table.ipynb>data table notebook</a>'\n",
              "          + ' to learn more about interactive tables.';\n",
              "        element.innerHTML = '';\n",
              "        dataTable['output_type'] = 'display_data';\n",
              "        await google.colab.output.renderOutput(dataTable, element);\n",
              "        const docLink = document.createElement('div');\n",
              "        docLink.innerHTML = docLinkHtml;\n",
              "        element.appendChild(docLink);\n",
              "      }\n",
              "    </script>\n",
              "  </div>\n",
              "\n",
              "\n",
              "<div id=\"df-3bc35561-8a28-4a66-8f3d-461eb18d5a6b\">\n",
              "  <button class=\"colab-df-quickchart\" onclick=\"quickchart('df-3bc35561-8a28-4a66-8f3d-461eb18d5a6b')\"\n",
              "            title=\"Suggest charts\"\n",
              "            style=\"display:none;\">\n",
              "\n",
              "<svg xmlns=\"http://www.w3.org/2000/svg\" height=\"24px\"viewBox=\"0 0 24 24\"\n",
              "     width=\"24px\">\n",
              "    <g>\n",
              "        <path d=\"M19 3H5c-1.1 0-2 .9-2 2v14c0 1.1.9 2 2 2h14c1.1 0 2-.9 2-2V5c0-1.1-.9-2-2-2zM9 17H7v-7h2v7zm4 0h-2V7h2v10zm4 0h-2v-4h2v4z\"/>\n",
              "    </g>\n",
              "</svg>\n",
              "  </button>\n",
              "\n",
              "<style>\n",
              "  .colab-df-quickchart {\n",
              "      --bg-color: #E8F0FE;\n",
              "      --fill-color: #1967D2;\n",
              "      --hover-bg-color: #E2EBFA;\n",
              "      --hover-fill-color: #174EA6;\n",
              "      --disabled-fill-color: #AAA;\n",
              "      --disabled-bg-color: #DDD;\n",
              "  }\n",
              "\n",
              "  [theme=dark] .colab-df-quickchart {\n",
              "      --bg-color: #3B4455;\n",
              "      --fill-color: #D2E3FC;\n",
              "      --hover-bg-color: #434B5C;\n",
              "      --hover-fill-color: #FFFFFF;\n",
              "      --disabled-bg-color: #3B4455;\n",
              "      --disabled-fill-color: #666;\n",
              "  }\n",
              "\n",
              "  .colab-df-quickchart {\n",
              "    background-color: var(--bg-color);\n",
              "    border: none;\n",
              "    border-radius: 50%;\n",
              "    cursor: pointer;\n",
              "    display: none;\n",
              "    fill: var(--fill-color);\n",
              "    height: 32px;\n",
              "    padding: 0;\n",
              "    width: 32px;\n",
              "  }\n",
              "\n",
              "  .colab-df-quickchart:hover {\n",
              "    background-color: var(--hover-bg-color);\n",
              "    box-shadow: 0 1px 2px rgba(60, 64, 67, 0.3), 0 1px 3px 1px rgba(60, 64, 67, 0.15);\n",
              "    fill: var(--button-hover-fill-color);\n",
              "  }\n",
              "\n",
              "  .colab-df-quickchart-complete:disabled,\n",
              "  .colab-df-quickchart-complete:disabled:hover {\n",
              "    background-color: var(--disabled-bg-color);\n",
              "    fill: var(--disabled-fill-color);\n",
              "    box-shadow: none;\n",
              "  }\n",
              "\n",
              "  .colab-df-spinner {\n",
              "    border: 2px solid var(--fill-color);\n",
              "    border-color: transparent;\n",
              "    border-bottom-color: var(--fill-color);\n",
              "    animation:\n",
              "      spin 1s steps(1) infinite;\n",
              "  }\n",
              "\n",
              "  @keyframes spin {\n",
              "    0% {\n",
              "      border-color: transparent;\n",
              "      border-bottom-color: var(--fill-color);\n",
              "      border-left-color: var(--fill-color);\n",
              "    }\n",
              "    20% {\n",
              "      border-color: transparent;\n",
              "      border-left-color: var(--fill-color);\n",
              "      border-top-color: var(--fill-color);\n",
              "    }\n",
              "    30% {\n",
              "      border-color: transparent;\n",
              "      border-left-color: var(--fill-color);\n",
              "      border-top-color: var(--fill-color);\n",
              "      border-right-color: var(--fill-color);\n",
              "    }\n",
              "    40% {\n",
              "      border-color: transparent;\n",
              "      border-right-color: var(--fill-color);\n",
              "      border-top-color: var(--fill-color);\n",
              "    }\n",
              "    60% {\n",
              "      border-color: transparent;\n",
              "      border-right-color: var(--fill-color);\n",
              "    }\n",
              "    80% {\n",
              "      border-color: transparent;\n",
              "      border-right-color: var(--fill-color);\n",
              "      border-bottom-color: var(--fill-color);\n",
              "    }\n",
              "    90% {\n",
              "      border-color: transparent;\n",
              "      border-bottom-color: var(--fill-color);\n",
              "    }\n",
              "  }\n",
              "</style>\n",
              "\n",
              "  <script>\n",
              "    async function quickchart(key) {\n",
              "      const quickchartButtonEl =\n",
              "        document.querySelector('#' + key + ' button');\n",
              "      quickchartButtonEl.disabled = true;  // To prevent multiple clicks.\n",
              "      quickchartButtonEl.classList.add('colab-df-spinner');\n",
              "      try {\n",
              "        const charts = await google.colab.kernel.invokeFunction(\n",
              "            'suggestCharts', [key], {});\n",
              "      } catch (error) {\n",
              "        console.error('Error during call to suggestCharts:', error);\n",
              "      }\n",
              "      quickchartButtonEl.classList.remove('colab-df-spinner');\n",
              "      quickchartButtonEl.classList.add('colab-df-quickchart-complete');\n",
              "    }\n",
              "    (() => {\n",
              "      let quickchartButtonEl =\n",
              "        document.querySelector('#df-3bc35561-8a28-4a66-8f3d-461eb18d5a6b button');\n",
              "      quickchartButtonEl.style.display =\n",
              "        google.colab.kernel.accessAllowed ? 'block' : 'none';\n",
              "    })();\n",
              "  </script>\n",
              "</div>\n",
              "\n",
              "    </div>\n",
              "  </div>\n"
            ],
            "application/vnd.google.colaboratory.intrinsic+json": {
              "type": "dataframe",
              "summary": "{\n  \"name\": \"df[['Fecha', 'Rango_Hora', 'prediccion']]\",\n  \"rows\": 5,\n  \"fields\": [\n    {\n      \"column\": \"Fecha\",\n      \"properties\": {\n        \"dtype\": \"date\",\n        \"min\": \"2024-07-02 11:56:00\",\n        \"max\": \"2024-07-03 20:10:00\",\n        \"num_unique_values\": 3,\n        \"samples\": [\n          \"2024-07-02 11:56:00\",\n          \"2024-07-03 06:50:00\",\n          \"2024-07-03 20:10:00\"\n        ],\n        \"semantic_type\": \"\",\n        \"description\": \"\"\n      }\n    },\n    {\n      \"column\": \"Rango_Hora\",\n      \"properties\": {\n        \"dtype\": \"number\",\n        \"std\": 0,\n        \"min\": 0,\n        \"max\": 1,\n        \"num_unique_values\": 2,\n        \"samples\": [\n          0,\n          1\n        ],\n        \"semantic_type\": \"\",\n        \"description\": \"\"\n      }\n    },\n    {\n      \"column\": \"prediccion\",\n      \"properties\": {\n        \"dtype\": \"float32\",\n        \"num_unique_values\": 5,\n        \"samples\": [\n          2.477051019668579,\n          4.572075843811035\n        ],\n        \"semantic_type\": \"\",\n        \"description\": \"\"\n      }\n    }\n  ]\n}"
            }
          },
          "metadata": {},
          "execution_count": 60
        }
      ]
    },
    {
      "cell_type": "markdown",
      "source": [
        "## **7. Visualización de Resultados**\n",
        "\n",
        "Generamos gráficos para mostrar las predicciones de manera visual y comprensible.\n"
      ],
      "metadata": {
        "id": "o5HgXRsvEDRS"
      }
    },
    {
      "cell_type": "code",
      "source": [
        "dia_hora = df.groupby([df['Fecha'].dt.date, 'Rango_Hora'])['prediccion'].sum().unstack()\n",
        "\n",
        "plt.figure(figsize=(10, 4))\n",
        "dia_hora.plot(kind='bar', stacked=True, figsize=(10, 4), color=['#1f77b4', '#ff7f0e', '#2ca02c'])\n",
        "plt.title('Predicción de demanda diaria por rango horario', fontsize=16)\n",
        "plt.xlabel('Fecha', fontsize=13)\n",
        "plt.ylabel('Número de incidentes', fontsize=12)\n",
        "plt.legend(title='Rango Horario', fontsize=12)\n",
        "plt.grid(axis='y', linestyle='--', alpha=0.7)\n",
        "plt.xticks(rotation=0, fontsize=10)\n",
        "plt.yticks(fontsize=12)\n",
        "plt.tight_layout()\n",
        "plt.show()"
      ],
      "metadata": {
        "colab": {
          "base_uri": "https://localhost:8080/",
          "height": 424
        },
        "id": "OCAaIgMYLOOi",
        "outputId": "81d12048-8e55-4fc9-a60a-7304d3e80c7d"
      },
      "execution_count": 55,
      "outputs": [
        {
          "output_type": "display_data",
          "data": {
            "text/plain": [
              "<Figure size 1000x400 with 0 Axes>"
            ]
          },
          "metadata": {}
        },
        {
          "output_type": "display_data",
          "data": {
            "text/plain": [
              "<Figure size 1000x400 with 1 Axes>"
            ],
            "image/png": "[encoded data removed]"
          },
          "metadata": {}
        }
      ]
    },
    {
      "cell_type": "markdown",
      "source": [
        "*Nota*: Rango horario = 1 corresponde al periodo de 9AM a 9PM.\\\n",
        "       Rango horario = 0 corresponde al periodo de 9PM a 9AM."
      ],
      "metadata": {
        "id": "3Qa-WpDWhpQZ"
      }
    },
    {
      "cell_type": "markdown",
      "source": [
        "## **8. Exportar Resultados**\n",
        "\n",
        "Finalmente, exportaremos los resultados a un archivo CSV que puede usarse para la planificación."
      ],
      "metadata": {
        "id": "4ABkSXYdUxXl"
      }
    },
    {
      "cell_type": "code",
      "source": [
        "output_file = 'predicciones.csv'\n",
        "df.to_csv(output_file, index=False)"
      ],
      "metadata": {
        "id": "FNR4-RO2EM1Z"
      },
      "execution_count": 61,
      "outputs": []
    },
    {
      "cell_type": "markdown",
      "source": [
        "# **Conclusión**\n",
        "\n",
        "Esta guía ha mostrado cómo usar el modelo predictivo para estimar la demanda de emergencias médicas. Con estas predicciones, podrá tomar decisiones informadas y optimizar los recursos del CRUE.\n",
        "\n",
        "¡Buena suerte!\n"
      ],
      "metadata": {
        "id": "SaIAEiokU_cK"
      }
    }
  ]
}